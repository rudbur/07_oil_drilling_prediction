{
 "cells": [
  {
   "cell_type": "markdown",
   "id": "2169b2aa",
   "metadata": {
    "toc": true
   },
   "source": [
    "<h1>Table of Contents<span class=\"tocSkip\"></span></h1>\n",
    "<div class=\"toc\"><ul class=\"toc-item\"><li><ul class=\"toc-item\"><li><span><a href=\"#Цель\" data-toc-modified-id=\"Цель-0.1\"><span class=\"toc-item-num\">0.1&nbsp;&nbsp;</span><strong>Цель</strong></a></span></li><li><span><a href=\"#Описание-данных\" data-toc-modified-id=\"Описание-данных-0.2\"><span class=\"toc-item-num\">0.2&nbsp;&nbsp;</span><strong>Описание данных</strong></a></span></li><li><span><a href=\"#План-действий\" data-toc-modified-id=\"План-действий-0.3\"><span class=\"toc-item-num\">0.3&nbsp;&nbsp;</span>План действий</a></span></li></ul></li><li><span><a href=\"#Обзор-и-предобработка-данных\" data-toc-modified-id=\"Обзор-и-предобработка-данных-1\"><span class=\"toc-item-num\">1&nbsp;&nbsp;</span>Обзор и предобработка данных</a></span><ul class=\"toc-item\"><li><span><a href=\"#Вывод\" data-toc-modified-id=\"Вывод-1.1\"><span class=\"toc-item-num\">1.1&nbsp;&nbsp;</span>Вывод</a></span></li></ul></li><li><span><a href=\"#Построение-модели-линейной-регрессии\" data-toc-modified-id=\"Построение-модели-линейной-регрессии-2\"><span class=\"toc-item-num\">2&nbsp;&nbsp;</span>Построение модели линейной регрессии</a></span><ul class=\"toc-item\"><li><span><a href=\"#Вывод\" data-toc-modified-id=\"Вывод-2.1\"><span class=\"toc-item-num\">2.1&nbsp;&nbsp;</span>Вывод</a></span></li></ul></li><li><span><a href=\"#Прибыль-и-риски-для-каждого-региона\" data-toc-modified-id=\"Прибыль-и-риски-для-каждого-региона-3\"><span class=\"toc-item-num\">3&nbsp;&nbsp;</span>Прибыль и риски для каждого региона</a></span><ul class=\"toc-item\"><li><span><a href=\"#Вывод\" data-toc-modified-id=\"Вывод-3.1\"><span class=\"toc-item-num\">3.1&nbsp;&nbsp;</span>Вывод</a></span></li></ul></li><li><span><a href=\"#Вывод\" data-toc-modified-id=\"Вывод-4\"><span class=\"toc-item-num\">4&nbsp;&nbsp;</span>Вывод</a></span></li></ul></div>"
   ]
  },
  {
   "cell_type": "markdown",
   "id": "4aee3df1",
   "metadata": {},
   "source": [
    "# Построение регрессионной модели для определения региона максимальной прибыли с добычи нефти из новых скважин компании «ГлавРосГосНефть»"
   ]
  },
  {
   "cell_type": "markdown",
   "id": "5b3c5ca7",
   "metadata": {},
   "source": [
    "### **Цель**"
   ]
  },
  {
   "cell_type": "markdown",
   "id": "559c37cc",
   "metadata": {},
   "source": [
    "Используя данные о скважинах из трёх регионов, построить модель линейной регрессии для предсказания суммарного объёма добычи нефти, прибыли и рисков в каждом из них и выбрать лучший (более прибыльный и менее рискованный)."
   ]
  },
  {
   "cell_type": "markdown",
   "id": "21f65ebb",
   "metadata": {},
   "source": [
    "### **Описание данных**"
   ]
  },
  {
   "cell_type": "markdown",
   "id": "2e8b7a80",
   "metadata": {},
   "source": [
    "Работать будем с 3-мя датасетами - соответствуют трём регионам. Каждый состоит из:\n",
    "- `id` — уникальный идентификатор скважины;  \n",
    "- `f0`, `f1`, `f2` — три признака скважины (данные синтетические);  \n",
    "- `product` — объём запасов в скважине (тыс. баррелей).  \n"
   ]
  },
  {
   "cell_type": "markdown",
   "id": "158c122b",
   "metadata": {},
   "source": [
    "### План действий"
   ]
  },
  {
   "cell_type": "markdown",
   "id": "b4889254",
   "metadata": {},
   "source": [
    "- импорт данных и необходимых библиотек\n",
    "- обзор данных (пропуски, дубликаты, прочие аномалии, гистограммы и корреляции)\n",
    "- предобработка данных\n",
    "- построение модели линейной регрессии и обучение её отдельно на признаках каждого региона\n",
    "- расчёт среднего запаса сырья в скважине и RMSE модели для каждого региона\n",
    "- расчёт достаточности объёма сырья в скважине для безубыточности добычи\n",
    "- методом Bootstrap с 1000 итераций случайно выбрать 500 скважин, из них выбрать 200 с максимальным предсказанным запасом сырья, чтобы по каждому региону получить:\n",
    "  - распределение суммарной прибыли лучших предсказанных скважин\n",
    "  - 95% доверительный интервал этой прибыли\n",
    "  - риск убытков (отрицательной прибыли)\n",
    "- выводы"
   ]
  },
  {
   "cell_type": "markdown",
   "id": "fc2bf760",
   "metadata": {},
   "source": [
    "## Обзор и предобработка данных"
   ]
  },
  {
   "cell_type": "code",
   "execution_count": null,
   "id": "3cc74a7c",
   "metadata": {},
   "outputs": [],
   "source": [
    "import pandas as pd\n",
    "import plotly.express as px\n",
    "import numpy as np\n",
    "\n",
    "from sklearn.linear_model import LinearRegression\n",
    "from sklearn.model_selection import train_test_split\n",
    "from sklearn.metrics import mean_squared_error\n",
    "from sklearn.preprocessing import StandardScaler\n",
    "\n",
    "import warnings \n",
    "warnings.filterwarnings('ignore')\n",
    "\n",
    "from decimal import Decimal"
   ]
  },
  {
   "cell_type": "code",
   "execution_count": null,
   "id": "4785dc31",
   "metadata": {},
   "outputs": [],
   "source": [
    "try:\n",
    "    df0 = pd.read_csv('datasets/geo_data_0.csv')\n",
    "    df1 = pd.read_csv('datasets/geo_data_1.csv')\n",
    "    df2 = pd.read_csv('datasets/geo_data_2.csv')\n",
    "except FileNotFoundError: \n",
    "    df0 = pd.read_csv('geo_data_0.csv')\n",
    "    df1 = pd.read_csv('geo_data_1.csv')\n",
    "    df2 = pd.read_csv('geo_data_2.csv')"
   ]
  },
  {
   "cell_type": "code",
   "execution_count": null,
   "id": "299822e0",
   "metadata": {
    "scrolled": false
   },
   "outputs": [],
   "source": [
    "df_all = [df0, df1, df2]\n",
    "i=0\n",
    "for _ in df_all:\n",
    "    display('*'*50)\n",
    "    display(f'Регион {i}')\n",
    "    display(_.head(2), '_ '*25)\n",
    "    display(_.info(), '_ '*25)\n",
    "    display('Дубликаты:', _.duplicated().sum(), '_ '*25)\n",
    "    display('Пропуски:', _.isna().sum())\n",
    "    i+=1"
   ]
  },
  {
   "cell_type": "code",
   "execution_count": null,
   "id": "ca0dc170",
   "metadata": {},
   "outputs": [],
   "source": [
    "#для стоящей перед нами задачи признак id скважины - лишний. удалим.\n",
    "df0.drop('id', errors='ignore', inplace=True, axis=1)\n",
    "df1.drop('id', errors='ignore', inplace=True, axis=1)\n",
    "df2.drop('id', errors='ignore', inplace=True, axis=1)\n",
    "df_all = [df0,df1,df2]"
   ]
  },
  {
   "cell_type": "code",
   "execution_count": null,
   "id": "a14fffa4",
   "metadata": {
    "scrolled": true
   },
   "outputs": [],
   "source": [
    "#отобразим диаграммы рассеяния и посчитаем корреляцию Пирсона\n",
    "i=0\n",
    "for _ in df_all:\n",
    "    display('*'*100, f'Регион {i}')\n",
    "    px.scatter_matrix(_, opacity=.005, height=800).show()\n",
    "    px.imshow(_.corr().round(3)*100, text_auto=True).show()\n",
    "    i+=1"
   ]
  },
  {
   "cell_type": "code",
   "execution_count": null,
   "id": "4dcff5f9",
   "metadata": {
    "scrolled": true
   },
   "outputs": [],
   "source": [
    "#отобразим распределения признаков\n",
    "i=0\n",
    "for _ in df_all:\n",
    "    display('*'*100, f'Регион {i}')\n",
    "    i+=1\n",
    "    for column in _.columns:\n",
    "        display('_ '*50)\n",
    "        fig = px.histogram(_, column)\n",
    "        fig.show()"
   ]
  },
  {
   "cell_type": "markdown",
   "id": "8f6ae2a8",
   "metadata": {},
   "source": [
    "### Вывод"
   ]
  },
  {
   "cell_type": "markdown",
   "id": "30abb26f",
   "metadata": {},
   "source": [
    "- 100тыс. записей (скважин) в каждом регионе, без дубликатов и пропусков\n",
    "- признак `id` для наших целей лишний - удалили\n",
    "- наблюдаем красивые зависимости одних признаков от других на диаграммах рассеяния, разные значения их корреляций по Пирсону, вплоть до 44%. По-хорошему перед построением модели линейной регрессии стоит отмасштабировать и отнормировать признаки, а также избавиться от мультиколлинеарности. Процедуру стандартизации данных проведём ниже, избавляться от мультиколлинеарности не будем (выходит за рамки проекта)."
   ]
  },
  {
   "cell_type": "markdown",
   "id": "2b357a1f",
   "metadata": {},
   "source": [
    "## Построение модели линейной регрессии"
   ]
  },
  {
   "cell_type": "code",
   "execution_count": null,
   "id": "9c187486",
   "metadata": {},
   "outputs": [],
   "source": [
    "#data = {'df0':[[features_train, target_train], [features_test, target_test]], 'df1':...}\n",
    "#по каждому региону разобьём датасет на тренировочный и тестовый в соотношении 3:1\n",
    "#отмасштабируем признаки методом StandardScaler()\n",
    "#положим получившиеся данные в контейнер data\n",
    "data = dict()\n",
    "i=0\n",
    "for _ in df_all:\n",
    "    target = _['product']\n",
    "    features = _.drop('product', errors='ignore', axis=1)\n",
    "    features_train, features_test, target_train, target_test = train_test_split(features, target, test_size=.25, random_state=42)\n",
    "    scaler = StandardScaler()\n",
    "    scaler.fit(features_train)\n",
    "    scaler.transform(features_train)\n",
    "    scaler.transform(features_test)\n",
    "    train = [features_train, target_train]\n",
    "    test = [features_test, target_test]\n",
    "    df = 'df'+ str(i)\n",
    "    data[df]=[train, test]\n",
    "    i+=1"
   ]
  },
  {
   "cell_type": "code",
   "execution_count": null,
   "id": "a3bd91c8",
   "metadata": {},
   "outputs": [],
   "source": [
    "#чтобы удостовериться, что данные отмасштабированы, отобразим новые расределения признаков\n",
    "for _ in ['df0', 'df1', 'df2']:\n",
    "    display('*'*50, _)\n",
    "    display('features_train')\n",
    "    px.histogram(data[_][0][0], barmode='overlay').show()\n",
    "    display('features_test')\n",
    "    px.histogram(data[_][1][0], barmode='overlay').show()"
   ]
  },
  {
   "cell_type": "code",
   "execution_count": null,
   "id": "8697e2e5",
   "metadata": {},
   "outputs": [],
   "source": [
    "#построим модель линейной регрессии для каждого региона\n",
    "#предскажем запасы скважин на тестовой выборке\n",
    "#посчитаем RMSE\n",
    "#barrels = {df0: [predicted, valid], df1:...}\n",
    "#rmse = {df0: rmse0, df1:...}\n",
    "barrels=dict()\n",
    "rmse=dict()\n",
    "for _ in data:\n",
    "    model = LinearRegression()\n",
    "    model.fit(data[_][0][0], data[_][0][1])\n",
    "    barrels[_] = [model.predict(data[_][1][0]), data[_][1][1].to_numpy()]\n",
    "    rmse[_] = mean_squared_error(barrels[_][1], barrels[_][0], squared=False).round(1)"
   ]
  },
  {
   "cell_type": "code",
   "execution_count": null,
   "id": "53ea4b41",
   "metadata": {},
   "outputs": [],
   "source": [
    "#средний запас сырья в скажине по региону, предсказанный моделью\n",
    "[np.mean(barrels[_][0]).round(1) for _ in data]"
   ]
  },
  {
   "cell_type": "code",
   "execution_count": null,
   "id": "92423d0c",
   "metadata": {},
   "outputs": [],
   "source": [
    "#RMSE предсказания\n",
    "list(rmse.values())"
   ]
  },
  {
   "cell_type": "markdown",
   "id": "28b3a504",
   "metadata": {},
   "source": [
    "### Вывод"
   ]
  },
  {
   "cell_type": "markdown",
   "id": "f22a0072",
   "metadata": {},
   "source": [
    "- модель линейной регрессии для каждого региона построена\n",
    "- предсказания для скважин из тестовой выборки получены и сохранены в контейнере `barrels`\n",
    "- модель отрабатывает предельно точно в регионе 1 (df1), тогда как в 0-ом и 2-ом RMSE больше трети среднего запаса скважины, что увеличивает риски потерь."
   ]
  },
  {
   "cell_type": "markdown",
   "id": "72b2ce8e",
   "metadata": {},
   "source": [
    "## Прибыль и риски для каждого региона"
   ]
  },
  {
   "cell_type": "code",
   "execution_count": null,
   "id": "067763e6",
   "metadata": {},
   "outputs": [],
   "source": [
    "WELLS_PCS = 500 # столько скважин в новом регионе случайно отбирают для\n",
    "#изучения перед принятием решения о начале разработки\n",
    "\n",
    "BEST_WELLS_PCS = 200 # из случайно отобранных выбирают столько лучших по прогнозу модели\n",
    "TRIES = 1000 # бутстрап: столько раз повторяют эскперимент по выбору лучших из изначальных\n",
    "REVENUE_PER = 450e3 # доход с 1тыс.бар. в рублях\n",
    "BUDGET = 10e9 # бюджет на разработку всех скважин (best_wells_pcs) в регионе"
   ]
  },
  {
   "cell_type": "code",
   "execution_count": null,
   "id": "a31c0a92",
   "metadata": {},
   "outputs": [],
   "source": [
    "#минимальный средний объем скважины в тыс.бар., чтобы не уйти в убыток от разработки в регионе\n",
    "well_size_min = BUDGET / (REVENUE_PER * BEST_WELLS_PCS)\n",
    "display(f'Мин. допустимый объём скважины, тыс.бар.: {round(well_size_min,1)}')"
   ]
  },
  {
   "cell_type": "code",
   "execution_count": null,
   "id": "8f95cc5a",
   "metadata": {},
   "outputs": [],
   "source": [
    "#перенесём данные из контейнера barrels типа dict в контейнер с типом DataFrame, чтобы можно было удобно\n",
    "#отсортировать скважины по убыванию запасов нефти в них\n",
    "barrels_df = [\n",
    "    pd.DataFrame(barrels[_], index=['predicted','valid']).T.sort_values('predicted', ascending=False)\n",
    "    for _ in data]"
   ]
  },
  {
   "cell_type": "code",
   "execution_count": null,
   "id": "bce3b2b8",
   "metadata": {
    "scrolled": true
   },
   "outputs": [],
   "source": [
    "#шаг ради интереса\n",
    "#отберём лучшие предсказанные скважины в каждом регионе, и для этой выборки посчитаем среднее и RMSE\n",
    "display('mean', [barrels_df[_][:BEST_WELLS_PCS].predicted.mean().round(1) for _ in [0,1,2]])\n",
    "display('RMSE', [mean_squared_error(barrels_df[_][:BEST_WELLS_PCS].predicted,\n",
    "                            barrels_df[_][:BEST_WELLS_PCS].valid,\n",
    "                            squared=False).round(1) \n",
    "         for _ in [0,1,2]])\n",
    "display('revenue', ['%.2E' % Decimal(barrels_df[_][:BEST_WELLS_PCS].valid.sum()*REVENUE_PER-BUDGET) for _ in [0,1,2]])\n",
    "\n",
    "#RMSE уменьшилось, средний объём скважины увеличился и стал больше найденного ранее минимального объёма,\n",
    "#необходимого для безубыточной разработки в регионе. \n",
    "#Прибыль (доход с 200-от скважин минус разработка) положительны, больше 2.4млрдР.\n",
    "#но этих данных пока недостаточно для принятия решения по региону, т.к. мы схитрили, взяв 200 лучших\n",
    "#месторождений из всех-всех 25000, доступных в тестовых выборках. В реальности же у нас будет только 500\n",
    "#случайных исследованных скважин, из которых будем отбирать лучшие. Поэтому нужен бустрап."
   ]
  },
  {
   "cell_type": "code",
   "execution_count": null,
   "id": "d5d76bbe",
   "metadata": {},
   "outputs": [],
   "source": [
    "#применим бутстрап и создадим датафрейм, где каждое значение - суммарная прибыль 200 лучших месторождений.\n",
    "state = np.random.RandomState(42)\n",
    "revenue_bootstrap = []\n",
    "for _ in barrels_df:\n",
    "    revenue_region = []\n",
    "    for i in range(TRIES):\n",
    "        revenue_region.append(_.sample(n=WELLS_PCS, replace=True, random_state=state)\\\n",
    "        .sort_values('predicted', ascending=False)[:BEST_WELLS_PCS].valid.sum()*REVENUE_PER-BUDGET)\n",
    "    revenue_bootstrap.append(pd.Series(revenue_region))\n",
    "revenue_bootstrap = pd.DataFrame(revenue_bootstrap).T"
   ]
  },
  {
   "cell_type": "code",
   "execution_count": null,
   "id": "8f07cc6d",
   "metadata": {
    "scrolled": false
   },
   "outputs": [],
   "source": [
    "px.box(revenue_bootstrap)\n",
    "#пока регион 1 (df1) выглядит более многообещающим по сравнению с остальными"
   ]
  },
  {
   "cell_type": "code",
   "execution_count": null,
   "id": "6c9612b2",
   "metadata": {
    "scrolled": false
   },
   "outputs": [],
   "source": [
    "display('Средняя прибыль', ['%.2E' % Decimal(revenue_bootstrap[_].mean()) for _ in revenue_bootstrap.columns])\n",
    "display('95% доверительный интервал', \n",
    "        [['%.2E' % Decimal(revenue_bootstrap[_].quantile(.025)), '%.2E' % Decimal(revenue_bootstrap[_].quantile(.975))] \n",
    "         for _ in revenue_bootstrap.columns])\n",
    "display('Риск убытков, %', [revenue_bootstrap[_].lt(0).mean()*100 for _ in revenue_bootstrap.columns])"
   ]
  },
  {
   "cell_type": "markdown",
   "id": "7fe69b57",
   "metadata": {},
   "source": [
    "### Вывод"
   ]
  },
  {
   "cell_type": "markdown",
   "id": "44291732",
   "metadata": {},
   "source": [
    "Среди трёх регионов `df1` более выгоден: \n",
    "- медианное и среднее значение прибыли больше\n",
    "- 95% доверительный интервал у́же и целиком находится в области положительных прибылей\n",
    "- риск убытков минимален, в разы меньше риска в остальных регионах"
   ]
  },
  {
   "cell_type": "markdown",
   "id": "ea264592",
   "metadata": {},
   "source": [
    "## Вывод"
   ]
  },
  {
   "cell_type": "markdown",
   "id": "ac5f8bb1",
   "metadata": {},
   "source": [
    "__Регион 1 (df1)__ - самый обещающий: риск убытков __1.6%__, с вероятностью 95% прибыль находится в интервале __0.03-0.8 млрдР__ и в среднем составляет __0.44 млрдР__.  \n",
    "Средний предсказанный запас скважины в этом регионе: __68.7тыс.бар.__ (в остальных регионах на треть больше).  RMSE: __0.9тыс.бар.__, модель предсказывает предельно точно (в остальных регионах ошибка в 40 раз больше)\n",
    "\n",
    "- для нахождения лучшего региона были задействованы модель линейной регрессии и метод `bootstrap` (1000 раз случайно выбирали 500 скважин из 25000, а из низ выбирали 200 лучших по предсказанию модели)\n",
    "- анализ основан на выборке в 100тыс. скважин для каждого региона\n",
    "- данные на входе - чистые (без пропусков, аномалий, дубликатов, в нужном формате)\n",
    "- признаки были стандартизованы методом `StandardScaler`\n",
    "- в 0-ом регионе (df0) наблюдается слабая (44%) корреляция между признаками f0 и f1 - по-хорошему от неё нужно избавиться, это может улучшить прогноз модели  \n",
    "- минимальный (для безубыточности) средний запас скважины (среди 200-от отобранных для разработки) составляет __111тыс.бар.__"
   ]
  }
 ],
 "metadata": {
  "ExecuteTimeLog": [
   {
    "duration": 10947,
    "start_time": "2022-05-31T20:39:08.421Z"
   },
   {
    "duration": 2920,
    "start_time": "2022-05-31T20:39:19.371Z"
   },
   {
    "duration": 838,
    "start_time": "2022-05-31T20:39:22.293Z"
   },
   {
    "duration": 279,
    "start_time": "2022-05-31T20:39:23.133Z"
   },
   {
    "duration": 17,
    "start_time": "2022-05-31T20:39:23.414Z"
   },
   {
    "duration": 2536,
    "start_time": "2022-05-31T20:39:23.432Z"
   },
   {
    "duration": 0,
    "start_time": "2022-05-31T20:39:25.970Z"
   },
   {
    "duration": 0,
    "start_time": "2022-05-31T20:39:25.972Z"
   },
   {
    "duration": 0,
    "start_time": "2022-05-31T20:39:25.973Z"
   },
   {
    "duration": 1,
    "start_time": "2022-05-31T20:39:25.974Z"
   },
   {
    "duration": 0,
    "start_time": "2022-05-31T20:39:25.975Z"
   },
   {
    "duration": 0,
    "start_time": "2022-05-31T20:39:25.976Z"
   },
   {
    "duration": 0,
    "start_time": "2022-05-31T20:39:25.978Z"
   },
   {
    "duration": 0,
    "start_time": "2022-05-31T20:39:25.979Z"
   },
   {
    "duration": 0,
    "start_time": "2022-05-31T20:39:25.980Z"
   },
   {
    "duration": 0,
    "start_time": "2022-05-31T20:39:25.981Z"
   },
   {
    "duration": 0,
    "start_time": "2022-05-31T20:39:25.982Z"
   },
   {
    "duration": 0,
    "start_time": "2022-05-31T20:39:25.983Z"
   },
   {
    "duration": 0,
    "start_time": "2022-05-31T20:39:25.984Z"
   },
   {
    "duration": 10109,
    "start_time": "2022-05-31T20:50:34.615Z"
   },
   {
    "duration": 60,
    "start_time": "2022-05-31T20:50:44.727Z"
   },
   {
    "duration": 7532,
    "start_time": "2022-05-31T20:50:44.788Z"
   },
   {
    "duration": 142,
    "start_time": "2022-05-31T20:50:52.323Z"
   },
   {
    "duration": 97,
    "start_time": "2022-05-31T20:50:52.558Z"
   },
   {
    "duration": 5,
    "start_time": "2022-05-31T20:50:52.657Z"
   },
   {
    "duration": 6,
    "start_time": "2022-05-31T20:50:52.663Z"
   },
   {
    "duration": 6,
    "start_time": "2022-05-31T20:50:52.670Z"
   },
   {
    "duration": 1994,
    "start_time": "2022-05-31T20:50:52.677Z"
   },
   {
    "duration": 16,
    "start_time": "2022-05-31T20:50:54.673Z"
   },
   {
    "duration": 1964,
    "start_time": "2022-05-31T20:50:54.690Z"
   },
   {
    "duration": 97,
    "start_time": "2022-05-31T20:50:56.656Z"
   },
   {
    "duration": 17,
    "start_time": "2022-05-31T20:50:56.754Z"
   },
   {
    "duration": 53,
    "start_time": "2022-05-31T23:09:57.235Z"
   },
   {
    "duration": 2171,
    "start_time": "2022-05-31T23:13:02.415Z"
   },
   {
    "duration": 4,
    "start_time": "2022-05-31T23:13:04.588Z"
   },
   {
    "duration": 342,
    "start_time": "2022-05-31T23:13:04.593Z"
   },
   {
    "duration": 218,
    "start_time": "2022-05-31T23:13:04.937Z"
   },
   {
    "duration": 32,
    "start_time": "2022-05-31T23:13:05.157Z"
   },
   {
    "duration": 6808,
    "start_time": "2022-05-31T23:13:05.190Z"
   },
   {
    "duration": 2154,
    "start_time": "2022-05-31T23:14:34.331Z"
   },
   {
    "duration": 933,
    "start_time": "2022-05-31T23:14:36.487Z"
   },
   {
    "duration": 348,
    "start_time": "2022-05-31T23:14:37.422Z"
   },
   {
    "duration": 242,
    "start_time": "2022-05-31T23:14:37.772Z"
   },
   {
    "duration": 15,
    "start_time": "2022-05-31T23:14:38.015Z"
   },
   {
    "duration": 7067,
    "start_time": "2022-05-31T23:14:38.031Z"
   },
   {
    "duration": 9025,
    "start_time": "2022-05-31T23:18:20.861Z"
   },
   {
    "duration": 10108,
    "start_time": "2022-05-31T23:21:05.462Z"
   },
   {
    "duration": 43,
    "start_time": "2022-05-31T23:21:57.434Z"
   },
   {
    "duration": 7586,
    "start_time": "2022-05-31T23:21:57.478Z"
   },
   {
    "duration": 131,
    "start_time": "2022-05-31T23:22:05.065Z"
   },
   {
    "duration": 81,
    "start_time": "2022-05-31T23:22:05.198Z"
   },
   {
    "duration": 97,
    "start_time": "2022-05-31T23:22:05.281Z"
   },
   {
    "duration": 15,
    "start_time": "2022-05-31T23:22:05.380Z"
   },
   {
    "duration": 10,
    "start_time": "2022-05-31T23:22:05.396Z"
   },
   {
    "duration": 2309,
    "start_time": "2022-05-31T23:22:05.407Z"
   },
   {
    "duration": 14,
    "start_time": "2022-05-31T23:22:07.718Z"
   },
   {
    "duration": 1815,
    "start_time": "2022-05-31T23:22:07.733Z"
   },
   {
    "duration": 68,
    "start_time": "2022-05-31T23:22:09.550Z"
   },
   {
    "duration": 4,
    "start_time": "2022-05-31T23:22:09.619Z"
   },
   {
    "duration": 17,
    "start_time": "2022-05-31T23:23:03.294Z"
   }
  ],
  "kernelspec": {
   "display_name": "Python 3",
   "language": "python",
   "name": "python3"
  },
  "language_info": {
   "codemirror_mode": {
    "name": "ipython",
    "version": 3
   },
   "file_extension": ".py",
   "mimetype": "text/x-python",
   "name": "python",
   "nbconvert_exporter": "python",
   "pygments_lexer": "ipython3",
   "version": "3.7.12"
  },
  "toc": {
   "base_numbering": 1,
   "nav_menu": {},
   "number_sections": true,
   "sideBar": true,
   "skip_h1_title": true,
   "title_cell": "Table of Contents",
   "title_sidebar": "Contents",
   "toc_cell": true,
   "toc_position": {},
   "toc_section_display": true,
   "toc_window_display": true
  }
 },
 "nbformat": 4,
 "nbformat_minor": 5
}
